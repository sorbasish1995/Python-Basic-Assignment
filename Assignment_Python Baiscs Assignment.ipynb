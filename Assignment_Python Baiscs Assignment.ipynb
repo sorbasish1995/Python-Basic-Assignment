{
 "cells": [
  {
   "cell_type": "markdown",
   "id": "b1d8b5bc-f83a-47d2-bf29-1c37871f46c2",
   "metadata": {},
   "source": [
    "1. Explain the key features of Python that make it a popular choice for programming.\n",
    "   - Effective Data handling.\n",
    "   - Automation of tools.\n",
    "   - Advance analytics capabilities.\n",
    "   - Data Visualization.\n",
    "   - Predictive Analysis (AI & ML).\n",
    "   - Scalability.\n",
    "   - Open source and cost effective.\n",
    "   - Flexiability across over any domain.\n",
    "   - Versatility and simplicity.\n",
    "   - Good community support and ecosystem.\n",
    "   - Easy to learn."
   ]
  },
  {
   "cell_type": "markdown",
   "id": "03ed5b10-9aa7-454a-8cfd-ff9f43e7d844",
   "metadata": {},
   "source": [
    "2. Describe the role of predefined keywords in Python and provide examples of how they are used in a \n",
    "program.\n",
    "\n",
    "   - Predefined keyword are such keywords which are mainly used in python to obtain a specific task. They cannot be       redefined and cannot be renamed or used as identifiers (variable names, function names, etc.). Some examples         of predefied keywords are print,if,elif,else,import etc.\n",
    "   - In the next line we are going to see some examples of predefined keywords in python for real life scenarios."
   ]
  },
  {
   "cell_type": "code",
   "execution_count": 5,
   "id": "4906143b-f46f-478f-91e8-79557fd6d5c5",
   "metadata": {},
   "outputs": [
    {
     "name": "stdout",
     "output_type": "stream",
     "text": [
      "Hello Sorbasish welcome to PWSKILLS and You will be a great data analyst\n"
     ]
    }
   ],
   "source": [
    "# print() and import\n",
    "\n",
    "print(\"Hello Sorbasish welcome to PWSKILLS and You will be a great data analyst\")"
   ]
  },
  {
   "cell_type": "code",
   "execution_count": 6,
   "id": "a6fe82e7-d191-4a12-bcfb-33ff82142b60",
   "metadata": {},
   "outputs": [],
   "source": [
    "# here we used print for print a message in python."
   ]
  },
  {
   "cell_type": "code",
   "execution_count": 8,
   "id": "f43c131b-f66f-4635-9fb8-eb7a1d0c2009",
   "metadata": {},
   "outputs": [
    {
     "name": "stdout",
     "output_type": "stream",
     "text": [
      "The value of pi is approximately: 3.141592653589793\n"
     ]
    }
   ],
   "source": [
    "import math\n",
    "\n",
    "# Example 2: Calculating the value of pi\n",
    "pi_value = math.pi\n",
    "print(f\"The value of pi is approximately: {pi_value}\")"
   ]
  },
  {
   "cell_type": "markdown",
   "id": "3c5a265b-289a-487f-b63b-8083000bb24d",
   "metadata": {},
   "source": [
    "import math: This line is the first step. \n",
    "It tells Python to bring in the math module, \n",
    "which contains a collection of pre-built mathematical functions and constants."
   ]
  },
  {
   "cell_type": "markdown",
   "id": "c32f5e0b-7a21-47db-a211-ceec87c32e4a",
   "metadata": {},
   "source": [
    "3. Compare and contrast mutable and immutable objects in Python with examples.\n",
    "   - So we all know that in Python there are 5 types of data structures are available. Some of them can be mutable        and some of them are immutable after creation.\n",
    "   - Both of these kind of data types are used to serve a specific purpose. In the next line we are going\n",
    "     undrestand those with examples."
   ]
  },
  {
   "cell_type": "code",
   "execution_count": 10,
   "id": "0e285e47-d4e3-40a4-b33e-16f24b91e651",
   "metadata": {},
   "outputs": [],
   "source": [
    " my_list = [\"sorbasish\",1,1.2,True,3+5j]"
   ]
  },
  {
   "cell_type": "code",
   "execution_count": 12,
   "id": "ea4ddce4-3633-4420-b4f4-8115a732852d",
   "metadata": {},
   "outputs": [
    {
     "data": {
      "text/plain": [
       "['sorbasish', 1, 1.2, True, (3+5j)]"
      ]
     },
     "execution_count": 12,
     "metadata": {},
     "output_type": "execute_result"
    }
   ],
   "source": [
    "my_list"
   ]
  },
  {
   "cell_type": "code",
   "execution_count": 17,
   "id": "fa5e0566-036a-4a05-890f-3ecfc4b70360",
   "metadata": {},
   "outputs": [
    {
     "data": {
      "text/plain": [
       "['sorbasish', 1, 1.2, False, (3+5j)]"
      ]
     },
     "execution_count": 17,
     "metadata": {},
     "output_type": "execute_result"
    }
   ],
   "source": [
    "# Now going to change one of the elemnts from our list after creation\n",
    "\n",
    "my_list[3]= False\n",
    "my_list # aswe can see after craeting a list we can chage its elements by accessing its index of the element."
   ]
  },
  {
   "cell_type": "code",
   "execution_count": 15,
   "id": "3912e181-e9af-4804-9f76-15af8b96ec48",
   "metadata": {},
   "outputs": [
    {
     "data": {
      "text/plain": [
       "tuple"
      ]
     },
     "execution_count": 15,
     "metadata": {},
     "output_type": "execute_result"
    }
   ],
   "source": [
    "# Now going to craete a Tuple and and it is immutable after creation\n",
    "\n",
    "my_data = (1,\"Roll_Number\",7000196,\"Pin\")\n",
    "type(my_data)"
   ]
  },
  {
   "cell_type": "code",
   "execution_count": 18,
   "id": "a9b32b39-57c6-4863-8343-cf64b5fb71c8",
   "metadata": {},
   "outputs": [
    {
     "ename": "TypeError",
     "evalue": "'tuple' object does not support item assignment",
     "output_type": "error",
     "traceback": [
      "\u001b[31m---------------------------------------------------------------------------\u001b[39m",
      "\u001b[31mTypeError\u001b[39m                                 Traceback (most recent call last)",
      "\u001b[36mCell\u001b[39m\u001b[36m \u001b[39m\u001b[32mIn[18]\u001b[39m\u001b[32m, line 1\u001b[39m\n\u001b[32m----> \u001b[39m\u001b[32m1\u001b[39m \u001b[43mmy_data\u001b[49m\u001b[43m[\u001b[49m\u001b[32;43m1\u001b[39;49m\u001b[43m]\u001b[49m = \u001b[33m\"\u001b[39m\u001b[33mSerial_Number\u001b[39m\u001b[33m\"\u001b[39m\n\u001b[32m      2\u001b[39m my_data\n",
      "\u001b[31mTypeError\u001b[39m: 'tuple' object does not support item assignment"
     ]
    }
   ],
   "source": [
    "my_data[1] = \"Serial_Number\"\n",
    "my_data # here we get an error when we tried to chage the element of a tuple after creation."
   ]
  },
  {
   "cell_type": "markdown",
   "id": "7743e24b-ada7-4992-8ad8-33c267e0e9b5",
   "metadata": {},
   "source": [
    "So, from the above examples we can understand that both of the data structures are required when we are dealing with different scenarios. When we need to dynamically change or modify the data we will use Lists and when we do not want to chage the data than at that time we will use Tupples."
   ]
  },
  {
   "cell_type": "markdown",
   "id": "8f4b4a03-23ef-421d-ad3f-9b5fdf3fb232",
   "metadata": {},
   "source": [
    "4. Discuss the different types of operators in Python and provide examples of how they are used.\n",
    "   - In Python there are 7 types operators present in the system. In the next line we are going to understand their       applications."
   ]
  },
  {
   "cell_type": "code",
   "execution_count": 21,
   "id": "cda83cf8-4ea0-4af7-9462-59f7dddd8887",
   "metadata": {},
   "outputs": [
    {
     "name": "stdout",
     "output_type": "stream",
     "text": [
      "Addition: 13\n",
      "Subtraction: 7\n",
      "Multiplication: 30\n",
      "Division: 3.3333333333333335\n",
      "Floor Division: 3\n",
      "Modulo: 1\n",
      "Exponentiation: 1000\n"
     ]
    }
   ],
   "source": [
    "# Arithmetic Operators:\n",
    "\n",
    "num1 = 10\n",
    "num2 = 3\n",
    "\n",
    "addition = num1 + num2\n",
    "subtraction = num1 - num2\n",
    "multiplication = num1 * num2\n",
    "division = num1 / num2\n",
    "floor_division = num1 // num2\n",
    "modulo = num1 % num2\n",
    "exponentiation = num1 ** num2\n",
    "\n",
    "print(f\"Addition: {addition}\")       \n",
    "print(f\"Subtraction: {subtraction}\")   \n",
    "print(f\"Multiplication: {multiplication}\") \n",
    "print(f\"Division: {division}\")      \n",
    "print(f\"Floor Division: {floor_division}\") \n",
    "print(f\"Modulo: {modulo}\")           \n",
    "print(f\"Exponentiation: {exponentiation}\") "
   ]
  },
  {
   "cell_type": "markdown",
   "id": "9baf24b5-f05a-494e-bbc7-dfc5fbf27433",
   "metadata": {},
   "source": [
    "Assignment Operators:\n",
    "\n",
    "=\tAssign\tAssigns the value of the right operand to the left.\tx = 5\tx = 5\n",
    "+=\tAdd and Assign\tAdds the right operand to the left and assigns the result to the left.\tx += 2\tx = x + 2\n",
    "-=\tSubtract and Assign\tSubtracts the right operand from the left and assigns the result to the left.\tx -= 2\tx = x - 2\n",
    "*=\tMultiply and Assign\tMultiplies the left operand by the right and assigns the result to the left.\tx *= 2\tx = x * 2\n",
    "/=\tDivide and Assign\tDivides the left operand by the right and assigns the result to the left.\tx /= 2\tx = x / 2"
   ]
  },
  {
   "cell_type": "code",
   "execution_count": 20,
   "id": "261411f1-8fe2-45e0-8a72-738781f2833f",
   "metadata": {},
   "outputs": [
    {
     "name": "stdout",
     "output_type": "stream",
     "text": [
      "a += 5: 15\n",
      "b -= 3: 7\n",
      "c *= 4: 20\n"
     ]
    }
   ],
   "source": [
    "# Examples of Assignment Operators:\n",
    "\n",
    "a = 10\n",
    "a += 5  # a is now 15\n",
    "print(f\"a += 5: {a}\")\n",
    "\n",
    "b = 10\n",
    "b -= 3  # b is now 7\n",
    "print(f\"b -= 3: {b}\")\n",
    "\n",
    "c = 5\n",
    "c *= 4  # c is now 20\n",
    "print(f\"c *= 4: {c}\")"
   ]
  },
  {
   "cell_type": "markdown",
   "id": "3c8c8191-38de-47d4-86b6-0d366d07456b",
   "metadata": {},
   "source": [
    " Comparison Operators:\n",
    "\n",
    " ==\tEqual to\tReturns True if both operands are equal.\t5 == 5\tTrue\n",
    "!=\tNot equal to\tReturns True if operands are not equal.\t5 != 2\tTrue\n",
    ">\tGreater than\tReturns True if the left operand is greater than the right.\t5 > 2\tTrue\n",
    "<\tLess than\tReturns True if the left operand is less than the right.\t5 < 2\tFalse\n",
    ">=\tGreater than or equal to\tReturns True if the left operand is greater than or equal to the right.\t5 >= 5\tTrue\n",
    "<=\tLess than or equal to\tReturns True if the left operand is less than or equal to the right.\t5 <= 2\tFalse"
   ]
  },
  {
   "cell_type": "code",
   "execution_count": 19,
   "id": "3088dfd9-f0ab-424f-9141-fef3443c88a4",
   "metadata": {},
   "outputs": [
    {
     "name": "stdout",
     "output_type": "stream",
     "text": [
      "x == y: False\n",
      "x != y: True\n",
      "x > y: False\n",
      "x < y: True\n",
      "x >= y: False\n",
      "x <= y: True\n"
     ]
    }
   ],
   "source": [
    "# Examples of Comparison Operators\n",
    "\n",
    "x = 7\n",
    "y = 10\n",
    "\n",
    "print(f\"x == y: {x == y}\")  \n",
    "print(f\"x != y: {x != y}\")  \n",
    "print(f\"x > y: {x > y}\")    \n",
    "print(f\"x < y: {x < y}\")    \n",
    "print(f\"x >= y: {x >= y}\") \n",
    "print(f\"x <= y: {x <= y}\")  "
   ]
  },
  {
   "cell_type": "markdown",
   "id": "f783db2d-dac3-4a27-8c60-db58cb90b1fd",
   "metadata": {},
   "source": [
    " Logical Operators:\n",
    "\n",
    "and\tAND\tReturns True if both operands are True.\tTrue and True\tTrue\n",
    "or\tOR\tReturns True if at least one of the operands is True.\tTrue or False\tTrue\n",
    "not\tNOT\tReturns True if the operand is False, and False if the operand is True.\tnot True\tFalse"
   ]
  },
  {
   "cell_type": "code",
   "execution_count": 23,
   "id": "ebbe433d-16d6-4568-b92b-1d6127c02589",
   "metadata": {},
   "outputs": [
    {
     "name": "stdout",
     "output_type": "stream",
     "text": [
      "p and q: False\n",
      "p or q: True\n",
      "not p: False\n",
      "not q: True\n"
     ]
    }
   ],
   "source": [
    "# Examples of  logical Operators\n",
    "\n",
    "p = True\n",
    "q = False\n",
    "\n",
    "print(f\"p and q: {p and q}\") \n",
    "print(f\"p or q: {p or q}\")  \n",
    "print(f\"not p: {not p}\")    \n",
    "print(f\"not q: {not q}\")   "
   ]
  },
  {
   "cell_type": "markdown",
   "id": "d596a38e-a335-42e1-8acf-c9bc1cc5f674",
   "metadata": {},
   "source": [
    "Identity Operators:\n",
    "\n",
    "These operators check if two operands refer to the same object in memory.\n",
    "\n",
    "is\tIs\tReturns True if both operands are the same object.\tx is y\t\n",
    "is not\tIs not\tReturns True if both operands are not the same object.\tx is not y\n",
    "== checks for equality of value, while is checks for identity (same memory location)."
   ]
  },
  {
   "cell_type": "code",
   "execution_count": 24,
   "id": "f517316e-7a4a-4278-94b8-3bad04391ca2",
   "metadata": {},
   "outputs": [
    {
     "name": "stdout",
     "output_type": "stream",
     "text": [
      "list1 == list2: True\n",
      "list1 is list2: False\n",
      "list1 is list3: True\n",
      "list1 is not list2: True\n"
     ]
    }
   ],
   "source": [
    "# Examples of Identity Operators\n",
    "\n",
    "list1 = [1, 2, 3]\n",
    "list2 = [1, 2, 3]\n",
    "list3 = list1\n",
    "\n",
    "print(f\"list1 == list2: {list1 == list2}\") \n",
    "print(f\"list1 is list2: {list1 is list2}\")   \n",
    "print(f\"list1 is list3: {list1 is list3}\")    \n",
    "print(f\"list1 is not list2: {list1 is not list2}\") "
   ]
  },
  {
   "cell_type": "markdown",
   "id": "91b79dca-ba27-46ea-9532-b3d62fd9abc9",
   "metadata": {},
   "source": [
    "Membership Operators:\n",
    "\n",
    "These operators test if a value (operand) is found within a sequence (like a list, tuple, string, etc.).\n",
    "\n",
    "in\tIn\tReturns True if the value is found in the sequence.\t3 in [1, 2, 3]\tTrue\n",
    "not in\tNot in\tReturns True if the value is not found in the sequence.\t'a' not in 'banana'\tFalse"
   ]
  },
  {
   "cell_type": "code",
   "execution_count": 28,
   "id": "705ed839-05a9-4d1c-9406-2f5c1178b935",
   "metadata": {},
   "outputs": [
    {
     "name": "stdout",
     "output_type": "stream",
     "text": [
      "20 in my_list: True\n",
      "50 in my_list: False\n",
      "\n",
      "'e' in my_string: True\n",
      "'x' in my_string: False\n"
     ]
    }
   ],
   "source": [
    "# Examples of Membership Operators:\n",
    "\n",
    "my_list = [10, 20, 30, 40]\n",
    "print(f\"20 in my_list: {20 in my_list}\")     \n",
    "print(f\"50 in my_list: {50 in my_list}\")     \n",
    "\n",
    "my_string = \"hello\"\n",
    "print(f\"\\n'e' in my_string: {'e' in my_string}\")\n",
    "print(f\"'x' in my_string: {'x' in my_string}\") "
   ]
  },
  {
   "cell_type": "markdown",
   "id": "c91a4485-1475-4828-bd3b-1d47b45760dd",
   "metadata": {},
   "source": [
    "There is one more operator and it is call Bitwise operator and I am not including this into this as we do not use it very often."
   ]
  },
  {
   "cell_type": "markdown",
   "id": "4fa7f88a-03d8-49f0-b7f0-84a8aebf67ad",
   "metadata": {},
   "source": [
    "5. Explain the concept of type casting in Python with examples.\n",
    "   - Type casting is a process where we can chage the data type of a variable from one to another data type. In           python we have inbuilt functions which can conduct these operations.\n",
    "   - with the help of these functions we can obtain our required data type in Python. In the next line we are going       to see some examples of type casting."
   ]
  },
  {
   "cell_type": "code",
   "execution_count": 35,
   "id": "12560210-99c2-47c4-a761-aa01ca48eef0",
   "metadata": {},
   "outputs": [
    {
     "name": "stdout",
     "output_type": "stream",
     "text": [
      "String: 123, Type: <class 'str'>\n",
      "Integer: 123, Type: <class 'int'>\n",
      "128\n",
      "\n",
      "Integer: 10, Type: <class 'int'>\n",
      "Float: 10.0, Type: <class 'float'>\n",
      "\n",
      "Float: 3.14, Type: <class 'float'>\n",
      "Integer: 3, Type: <class 'int'>\n",
      "\n",
      " My age is 30\n",
      "\n",
      "Tuple: (1, 2, 3), Type: <class 'tuple'>\n",
      "List: [1, 2, 3], Type: <class 'list'>\n",
      "\n",
      "List of Tuples: [('name', 'Alice'), ('age', 25)], Type: <class 'list'>\n",
      "Dictionary: {'name': 'Alice', 'age': 25}, Type: <class 'dict'>\n"
     ]
    }
   ],
   "source": [
    "# Examples of type casting with different functions:\n",
    "\n",
    "# Converting string to integer\n",
    "string_num = \"123\"\n",
    "integer_num = int(string_num)\n",
    "print(f\"String: {string_num}, Type: {type(string_num)}\")\n",
    "print(f\"Integer: {integer_num}, Type: {type(integer_num)}\")\n",
    "print(integer_num + 5)  # Valid operation between integers\n",
    "\n",
    "# Converting integer to float\n",
    "int_val = 10\n",
    "float_val = float(int_val)\n",
    "print(f\"\\nInteger: {int_val}, Type: {type(int_val)}\")\n",
    "print(f\"Float: {float_val}, Type: {type(float_val)}\")\n",
    "\n",
    "# Converting float to integer (truncation)\n",
    "float_num = 3.14\n",
    "int_num = int(float_num)\n",
    "print(f\"\\nFloat: {float_num}, Type: {type(float_num)}\")\n",
    "print(f\"Integer: {int_num}, Type: {type(int_num)}\")\n",
    "\n",
    "# Converting integer to string (for concatenation)\n",
    "age = 30\n",
    "message = \"My age is \" + str(age)\n",
    "print(f\"\\n {message}\")\n",
    "\n",
    "# Converting tuple to list\n",
    "my_tuple = (1, 2, 3)\n",
    "my_list = list(my_tuple)\n",
    "print(f\"\\nTuple: {my_tuple}, Type: {type(my_tuple)}\")\n",
    "print(f\"List: {my_list}, Type: {type(my_list)}\")\n",
    "\n",
    "# Converting list of tuples to dictionary\n",
    "pairs = [(\"name\", \"Alice\"), (\"age\", 25)]\n",
    "my_dict = dict(pairs)\n",
    "print(f\"\\nList of Tuples: {pairs}, Type: {type(pairs)}\")\n",
    "print(f\"Dictionary: {my_dict}, Type: {type(my_dict)}\")"
   ]
  },
  {
   "cell_type": "markdown",
   "id": "86b248d1-2ccc-4348-ae18-459c4121c941",
   "metadata": {},
   "source": [
    "6. How do conditional statements work in Python? Illustrate with examples.\n",
    "   - Conditional statements works in such a way that whenever we put some conditions into our coding it specifically      checks for the given condition and if the condition gets satisfied then that block of code will get executed         otherwise it looks for the next condition and try to execute the next block and this cycle gets continue.\n",
    "   - Generally we use \"IF\" if we are checking one condition and we use \"ELIF\" to check multiple condition and we use      \"ELSE\" if none of the conditions are given is true.\n",
    "   - With the following example we are going to understand this concept practically."
   ]
  },
  {
   "cell_type": "code",
   "execution_count": 36,
   "id": "d4d49d7d-dda8-4e40-98e0-e0480f223822",
   "metadata": {},
   "outputs": [
    {
     "name": "stdout",
     "output_type": "stream",
     "text": [
      "C\n"
     ]
    }
   ],
   "source": [
    "#Example of If, ELIF, ELSE statements:\n",
    "\n",
    "grade = 75\n",
    "if grade >= 90:\n",
    "    print(\"A\")\n",
    "elif grade >= 80:\n",
    "    print(\"B\")\n",
    "elif grade >= 70:\n",
    "    print(\"C\")\n",
    "else:\n",
    "    print(\"Below C\")"
   ]
  },
  {
   "cell_type": "markdown",
   "id": "b074b4a2-720f-43ae-8943-7b5073acf59f",
   "metadata": {},
   "source": [
    "7. Describe the different types of loops in Python and their use cases with examples.\n",
    "   -  There are two primary types of loops in Python for loops and while loops, each used for different purpose.\n",
    "   -  The for loop in Python is primarily used to iterate over a sequence (such as a list, tuple, string, or range)        or other iterable objects. It executes the block of code once for each item in the sequence.\n",
    "   -  The while loop in Python executes a block of code as long as a specified condition is True. The loop continues       to run until the condition becomes False."
   ]
  },
  {
   "cell_type": "code",
   "execution_count": 42,
   "id": "93967904-bb3b-4747-a521-5c05c9c31112",
   "metadata": {},
   "outputs": [
    {
     "name": "stdout",
     "output_type": "stream",
     "text": [
      "Iteration: 0\n",
      "Iteration: 1\n",
      "Iteration: 2\n",
      "Iteration: 3\n",
      "Iteration: 4\n",
      "\n",
      " H\n",
      "\n",
      " e\n",
      "\n",
      " l\n",
      "\n",
      " l\n",
      "\n",
      " o\n"
     ]
    }
   ],
   "source": [
    "# Examples of For loops:\n",
    "\n",
    "for i in range(5): \n",
    "    print(f\"Iteration: {i}\") \n",
    "\n",
    "message = \"Hello\"\n",
    "for char in message:\n",
    "    print(f\"\\n {char}\")"
   ]
  },
  {
   "cell_type": "code",
   "execution_count": 40,
   "id": "249c4095-d90d-4539-a9fb-eaa68b43ba06",
   "metadata": {},
   "outputs": [
    {
     "name": "stdout",
     "output_type": "stream",
     "text": [
      "Count is: 0\n",
      "Count is: 1\n",
      "Count is: 2\n",
      "Count is: 3\n",
      "Count is: 4\n"
     ]
    }
   ],
   "source": [
    "# Example of while loops:\n",
    "\n",
    "count = 0\n",
    "while count < 5:\n",
    "    print(f\"Count is: {count}\")\n",
    "    count += 1"
   ]
  },
  {
   "cell_type": "code",
   "execution_count": null,
   "id": "dbd14eb9-4a17-4c77-9837-c4c1e5a4587f",
   "metadata": {},
   "outputs": [],
   "source": []
  }
 ],
 "metadata": {
  "kernelspec": {
   "display_name": "Python 3 (ipykernel)",
   "language": "python",
   "name": "python3"
  },
  "language_info": {
   "codemirror_mode": {
    "name": "ipython",
    "version": 3
   },
   "file_extension": ".py",
   "mimetype": "text/x-python",
   "name": "python",
   "nbconvert_exporter": "python",
   "pygments_lexer": "ipython3",
   "version": "3.13.2"
  }
 },
 "nbformat": 4,
 "nbformat_minor": 5
}
